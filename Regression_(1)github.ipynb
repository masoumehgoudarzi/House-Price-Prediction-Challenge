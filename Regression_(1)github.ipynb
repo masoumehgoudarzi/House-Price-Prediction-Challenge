{
  "cells": [
    {
      "cell_type": "markdown",
      "id": "3d1e2350",
      "metadata": {
        "id": "3d1e2350"
      },
      "source": [
        "# Regression\n",
        "\n",
        "## Dataset:\n",
        "\n",
        "https://www.kaggle.com/datasets/anmolkumar/house-price-prediction-challenge\n",
        "\n",
        "\n",
        "Welcome to the House Price Prediction Challenge, you will test your regression skills by designing an algorithm to accurately predict the house prices in India. Accurately predicting house prices can be a daunting task. The buyers are just not concerned about the size(square feet) of the house and there are various other factors that play a key role to decide the price of a house/property. It can be extremely difficult to figure out the right set of attributes that are contributing to understanding the buyer's behavior as such. This dataset has been collected across various property aggregators across India. In this competition, provided the 12 influencing factors your role as a data scientist is to predict the prices as accurately as possible.\n",
        "\n",
        "Also, in this competition, you will get a lot of room for feature engineering and mastering advanced regression techniques such as Random Forest, Deep Neural Nets, and various other ensembling techniques.\n",
        "\n",
        "- POSTED_BY:\tCategory marking who has listed the property\n",
        "\n",
        "- UNDER_CONSTRUCTION:\tUnder Construction or Not\n",
        "\n",
        "- RERA:\tRera approved or Not\n",
        "\n",
        "- BHK_NO:\tNumber of Rooms\n",
        "\n",
        "- BHKORRK:\tType of property\n",
        "\n",
        "- SQUARE_FT:\tTotal area of the house in square feet\n",
        "\n",
        "- READYTOMOVE:\tCategory marking Ready to move or Not\n",
        "\n",
        "- RESALE:\tCategory marking Resale or not\n",
        "\n",
        "- ADDRESS:\tAddress of the property\n",
        "\n",
        "- LONGITUDE:\tLongitude of the property\n",
        "\n",
        "- LATITUDE:\tLatitude of the property\n",
        "\n",
        "\n",
        "## Linear Models:\n",
        "$$\\hat{y}(w, x) = w_0 + w_1 x_1 + \\cdots + w_p x_p$$\n",
        "\n",
        "<img src=\"https://scikit-learn.org/stable/_images/sphx_glr_plot_ols_001.png\" width=400 height=400 />"
      ]
    },
    {
      "cell_type": "code",
      "execution_count": null,
      "id": "e4efff77",
      "metadata": {
        "id": "e4efff77"
      },
      "outputs": [],
      "source": [
        "import pandas as pd\n",
        "import numpy as np\n",
        "import matplotlib.pyplot as plt\n",
        "import seaborn as sns"
      ]
    },
    {
      "cell_type": "code",
      "execution_count": null,
      "id": "ddeca7ca",
      "metadata": {
        "id": "ddeca7ca"
      },
      "outputs": [],
      "source": [
        "data = pd.read_csv('_data/house_prediction/train.csv')"
      ]
    },
    {
      "cell_type": "code",
      "execution_count": null,
      "id": "184208d6",
      "metadata": {
        "id": "184208d6",
        "outputId": "772d7b95-13bf-4ad6-8476-c969ea5c3343"
      },
      "outputs": [
        {
          "data": {
            "text/html": [
              "<div>\n",
              "<style scoped>\n",
              "    .dataframe tbody tr th:only-of-type {\n",
              "        vertical-align: middle;\n",
              "    }\n",
              "\n",
              "    .dataframe tbody tr th {\n",
              "        vertical-align: top;\n",
              "    }\n",
              "\n",
              "    .dataframe thead th {\n",
              "        text-align: right;\n",
              "    }\n",
              "</style>\n",
              "<table border=\"1\" class=\"dataframe\">\n",
              "  <thead>\n",
              "    <tr style=\"text-align: right;\">\n",
              "      <th></th>\n",
              "      <th>POSTED_BY</th>\n",
              "      <th>UNDER_CONSTRUCTION</th>\n",
              "      <th>RERA</th>\n",
              "      <th>BHK_NO.</th>\n",
              "      <th>BHK_OR_RK</th>\n",
              "      <th>SQUARE_FT</th>\n",
              "      <th>READY_TO_MOVE</th>\n",
              "      <th>RESALE</th>\n",
              "      <th>ADDRESS</th>\n",
              "      <th>LONGITUDE</th>\n",
              "      <th>LATITUDE</th>\n",
              "      <th>TARGET(PRICE_IN_LACS)</th>\n",
              "    </tr>\n",
              "  </thead>\n",
              "  <tbody>\n",
              "    <tr>\n",
              "      <th>0</th>\n",
              "      <td>Owner</td>\n",
              "      <td>0</td>\n",
              "      <td>0</td>\n",
              "      <td>2</td>\n",
              "      <td>BHK</td>\n",
              "      <td>1300.236407</td>\n",
              "      <td>1</td>\n",
              "      <td>1</td>\n",
              "      <td>Ksfc Layout,Bangalore</td>\n",
              "      <td>12.969910</td>\n",
              "      <td>77.597960</td>\n",
              "      <td>55.0</td>\n",
              "    </tr>\n",
              "    <tr>\n",
              "      <th>1</th>\n",
              "      <td>Dealer</td>\n",
              "      <td>0</td>\n",
              "      <td>0</td>\n",
              "      <td>2</td>\n",
              "      <td>BHK</td>\n",
              "      <td>1275.000000</td>\n",
              "      <td>1</td>\n",
              "      <td>1</td>\n",
              "      <td>Vishweshwara Nagar,Mysore</td>\n",
              "      <td>12.274538</td>\n",
              "      <td>76.644605</td>\n",
              "      <td>51.0</td>\n",
              "    </tr>\n",
              "    <tr>\n",
              "      <th>2</th>\n",
              "      <td>Owner</td>\n",
              "      <td>0</td>\n",
              "      <td>0</td>\n",
              "      <td>2</td>\n",
              "      <td>BHK</td>\n",
              "      <td>933.159722</td>\n",
              "      <td>1</td>\n",
              "      <td>1</td>\n",
              "      <td>Jigani,Bangalore</td>\n",
              "      <td>12.778033</td>\n",
              "      <td>77.632191</td>\n",
              "      <td>43.0</td>\n",
              "    </tr>\n",
              "    <tr>\n",
              "      <th>3</th>\n",
              "      <td>Owner</td>\n",
              "      <td>0</td>\n",
              "      <td>1</td>\n",
              "      <td>2</td>\n",
              "      <td>BHK</td>\n",
              "      <td>929.921143</td>\n",
              "      <td>1</td>\n",
              "      <td>1</td>\n",
              "      <td>Sector-1 Vaishali,Ghaziabad</td>\n",
              "      <td>28.642300</td>\n",
              "      <td>77.344500</td>\n",
              "      <td>62.5</td>\n",
              "    </tr>\n",
              "    <tr>\n",
              "      <th>4</th>\n",
              "      <td>Dealer</td>\n",
              "      <td>1</td>\n",
              "      <td>0</td>\n",
              "      <td>2</td>\n",
              "      <td>BHK</td>\n",
              "      <td>999.009247</td>\n",
              "      <td>0</td>\n",
              "      <td>1</td>\n",
              "      <td>New Town,Kolkata</td>\n",
              "      <td>22.592200</td>\n",
              "      <td>88.484911</td>\n",
              "      <td>60.5</td>\n",
              "    </tr>\n",
              "    <tr>\n",
              "      <th>...</th>\n",
              "      <td>...</td>\n",
              "      <td>...</td>\n",
              "      <td>...</td>\n",
              "      <td>...</td>\n",
              "      <td>...</td>\n",
              "      <td>...</td>\n",
              "      <td>...</td>\n",
              "      <td>...</td>\n",
              "      <td>...</td>\n",
              "      <td>...</td>\n",
              "      <td>...</td>\n",
              "      <td>...</td>\n",
              "    </tr>\n",
              "    <tr>\n",
              "      <th>29446</th>\n",
              "      <td>Owner</td>\n",
              "      <td>0</td>\n",
              "      <td>0</td>\n",
              "      <td>3</td>\n",
              "      <td>BHK</td>\n",
              "      <td>2500.000000</td>\n",
              "      <td>1</td>\n",
              "      <td>1</td>\n",
              "      <td>Shamshabad Road,Agra</td>\n",
              "      <td>27.140626</td>\n",
              "      <td>78.043277</td>\n",
              "      <td>45.0</td>\n",
              "    </tr>\n",
              "    <tr>\n",
              "      <th>29447</th>\n",
              "      <td>Owner</td>\n",
              "      <td>0</td>\n",
              "      <td>0</td>\n",
              "      <td>2</td>\n",
              "      <td>BHK</td>\n",
              "      <td>769.230769</td>\n",
              "      <td>1</td>\n",
              "      <td>1</td>\n",
              "      <td>E3-108, Lake View Recidency,,Vapi</td>\n",
              "      <td>39.945409</td>\n",
              "      <td>-86.150721</td>\n",
              "      <td>16.0</td>\n",
              "    </tr>\n",
              "    <tr>\n",
              "      <th>29448</th>\n",
              "      <td>Dealer</td>\n",
              "      <td>0</td>\n",
              "      <td>0</td>\n",
              "      <td>2</td>\n",
              "      <td>BHK</td>\n",
              "      <td>1022.641509</td>\n",
              "      <td>1</td>\n",
              "      <td>1</td>\n",
              "      <td>Ajmer Road,Jaipur</td>\n",
              "      <td>26.928785</td>\n",
              "      <td>75.828002</td>\n",
              "      <td>27.1</td>\n",
              "    </tr>\n",
              "    <tr>\n",
              "      <th>29449</th>\n",
              "      <td>Owner</td>\n",
              "      <td>0</td>\n",
              "      <td>0</td>\n",
              "      <td>2</td>\n",
              "      <td>BHK</td>\n",
              "      <td>927.079009</td>\n",
              "      <td>1</td>\n",
              "      <td>1</td>\n",
              "      <td>Sholinganallur,Chennai</td>\n",
              "      <td>12.900150</td>\n",
              "      <td>80.227910</td>\n",
              "      <td>67.0</td>\n",
              "    </tr>\n",
              "    <tr>\n",
              "      <th>29450</th>\n",
              "      <td>Dealer</td>\n",
              "      <td>0</td>\n",
              "      <td>1</td>\n",
              "      <td>2</td>\n",
              "      <td>BHK</td>\n",
              "      <td>896.774194</td>\n",
              "      <td>1</td>\n",
              "      <td>1</td>\n",
              "      <td>Jagatpura,Jaipur</td>\n",
              "      <td>26.832353</td>\n",
              "      <td>75.841749</td>\n",
              "      <td>27.8</td>\n",
              "    </tr>\n",
              "  </tbody>\n",
              "</table>\n",
              "<p>29451 rows × 12 columns</p>\n",
              "</div>"
            ],
            "text/plain": [
              "      POSTED_BY  UNDER_CONSTRUCTION  RERA  BHK_NO. BHK_OR_RK    SQUARE_FT  \\\n",
              "0         Owner                   0     0        2       BHK  1300.236407   \n",
              "1        Dealer                   0     0        2       BHK  1275.000000   \n",
              "2         Owner                   0     0        2       BHK   933.159722   \n",
              "3         Owner                   0     1        2       BHK   929.921143   \n",
              "4        Dealer                   1     0        2       BHK   999.009247   \n",
              "...         ...                 ...   ...      ...       ...          ...   \n",
              "29446     Owner                   0     0        3       BHK  2500.000000   \n",
              "29447     Owner                   0     0        2       BHK   769.230769   \n",
              "29448    Dealer                   0     0        2       BHK  1022.641509   \n",
              "29449     Owner                   0     0        2       BHK   927.079009   \n",
              "29450    Dealer                   0     1        2       BHK   896.774194   \n",
              "\n",
              "       READY_TO_MOVE  RESALE                            ADDRESS  LONGITUDE  \\\n",
              "0                  1       1              Ksfc Layout,Bangalore  12.969910   \n",
              "1                  1       1          Vishweshwara Nagar,Mysore  12.274538   \n",
              "2                  1       1                   Jigani,Bangalore  12.778033   \n",
              "3                  1       1        Sector-1 Vaishali,Ghaziabad  28.642300   \n",
              "4                  0       1                   New Town,Kolkata  22.592200   \n",
              "...              ...     ...                                ...        ...   \n",
              "29446              1       1               Shamshabad Road,Agra  27.140626   \n",
              "29447              1       1  E3-108, Lake View Recidency,,Vapi  39.945409   \n",
              "29448              1       1                  Ajmer Road,Jaipur  26.928785   \n",
              "29449              1       1             Sholinganallur,Chennai  12.900150   \n",
              "29450              1       1                   Jagatpura,Jaipur  26.832353   \n",
              "\n",
              "        LATITUDE  TARGET(PRICE_IN_LACS)  \n",
              "0      77.597960                   55.0  \n",
              "1      76.644605                   51.0  \n",
              "2      77.632191                   43.0  \n",
              "3      77.344500                   62.5  \n",
              "4      88.484911                   60.5  \n",
              "...          ...                    ...  \n",
              "29446  78.043277                   45.0  \n",
              "29447 -86.150721                   16.0  \n",
              "29448  75.828002                   27.1  \n",
              "29449  80.227910                   67.0  \n",
              "29450  75.841749                   27.8  \n",
              "\n",
              "[29451 rows x 12 columns]"
            ]
          },
          "execution_count": 3,
          "metadata": {},
          "output_type": "execute_result"
        }
      ],
      "source": [
        "data"
      ]
    },
    {
      "cell_type": "code",
      "execution_count": null,
      "id": "683389d1",
      "metadata": {
        "id": "683389d1",
        "outputId": "18814c88-16f3-41c7-ff61-fe475520943d"
      },
      "outputs": [
        {
          "data": {
            "text/plain": [
              "POSTED_BY                0\n",
              "UNDER_CONSTRUCTION       0\n",
              "RERA                     0\n",
              "BHK_NO.                  0\n",
              "BHK_OR_RK                0\n",
              "SQUARE_FT                0\n",
              "READY_TO_MOVE            0\n",
              "RESALE                   0\n",
              "ADDRESS                  0\n",
              "LONGITUDE                0\n",
              "LATITUDE                 0\n",
              "TARGET(PRICE_IN_LACS)    0\n",
              "dtype: int64"
            ]
          },
          "execution_count": 4,
          "metadata": {},
          "output_type": "execute_result"
        }
      ],
      "source": [
        "data.isnull().sum()"
      ]
    },
    {
      "cell_type": "code",
      "execution_count": null,
      "id": "66ecc890",
      "metadata": {
        "id": "66ecc890",
        "outputId": "b8687a01-5425-436d-db1e-7580008569ea"
      },
      "outputs": [
        {
          "name": "stdout",
          "output_type": "stream",
          "text": [
            "<class 'pandas.core.frame.DataFrame'>\n",
            "RangeIndex: 29451 entries, 0 to 29450\n",
            "Data columns (total 12 columns):\n",
            " #   Column                 Non-Null Count  Dtype  \n",
            "---  ------                 --------------  -----  \n",
            " 0   POSTED_BY              29451 non-null  object \n",
            " 1   UNDER_CONSTRUCTION     29451 non-null  int64  \n",
            " 2   RERA                   29451 non-null  int64  \n",
            " 3   BHK_NO.                29451 non-null  int64  \n",
            " 4   BHK_OR_RK              29451 non-null  object \n",
            " 5   SQUARE_FT              29451 non-null  float64\n",
            " 6   READY_TO_MOVE          29451 non-null  int64  \n",
            " 7   RESALE                 29451 non-null  int64  \n",
            " 8   ADDRESS                29451 non-null  object \n",
            " 9   LONGITUDE              29451 non-null  float64\n",
            " 10  LATITUDE               29451 non-null  float64\n",
            " 11  TARGET(PRICE_IN_LACS)  29451 non-null  float64\n",
            "dtypes: float64(4), int64(5), object(3)\n",
            "memory usage: 2.7+ MB\n"
          ]
        }
      ],
      "source": [
        "data.info()"
      ]
    },
    {
      "cell_type": "code",
      "execution_count": null,
      "id": "cca3dd55",
      "metadata": {
        "id": "cca3dd55",
        "outputId": "c307e124-04dd-46e2-f487-a1f08055ce43"
      },
      "outputs": [
        {
          "data": {
            "image/png": "[encoded data removed]",
            "text/plain": [
              "<Figure size 432x288 with 1 Axes>"
            ]
          },
          "metadata": {
            "needs_background": "light"
          },
          "output_type": "display_data"
        }
      ],
      "source": [
        "sns.countplot(x='POSTED_BY', data=data);"
      ]
    },
    {
      "cell_type": "code",
      "execution_count": null,
      "id": "89f2f151",
      "metadata": {
        "id": "89f2f151",
        "outputId": "d503bc37-fa34-4bf4-c6d8-aa537923bd53"
      },
      "outputs": [
        {
          "data": {
            "image/png": "[encoded data removed]",
            "text/plain": [
              "<Figure size 432x288 with 1 Axes>"
            ]
          },
          "metadata": {
            "needs_background": "light"
          },
          "output_type": "display_data"
        }
      ],
      "source": [
        "sns.kdeplot(data[(data['POSTED_BY'] == 'Owner') & (data['TARGET(PRICE_IN_LACS)']<10000)]['TARGET(PRICE_IN_LACS)']);\n",
        "sns.kdeplot(data[(data['POSTED_BY'] == 'Dealer') & (data['TARGET(PRICE_IN_LACS)']<10000)]['TARGET(PRICE_IN_LACS)']);\n",
        "sns.kdeplot(data[(data['POSTED_BY'] == 'Builder') & (data['TARGET(PRICE_IN_LACS)']<10000)]['TARGET(PRICE_IN_LACS)']);"
      ]
    },
    {
      "cell_type": "code",
      "execution_count": null,
      "id": "7f37c510",
      "metadata": {
        "id": "7f37c510",
        "outputId": "2d1a6bfc-4a98-4260-a933-a1644813c4af"
      },
      "outputs": [
        {
          "data": {
            "image/png": "[encoded data removed]",
            "text/plain": [
              "<Figure size 432x288 with 1 Axes>"
            ]
          },
          "metadata": {
            "needs_background": "light"
          },
          "output_type": "display_data"
        }
      ],
      "source": [
        "sns.boxplot(x='POSTED_BY', y='TARGET(PRICE_IN_LACS)', data=data[data['TARGET(PRICE_IN_LACS)']<5000]);"
      ]
    },
    {
      "cell_type": "code",
      "execution_count": null,
      "id": "3faff0c6",
      "metadata": {
        "id": "3faff0c6",
        "outputId": "7e74700d-6428-4772-d4c6-a0a8911a9c01"
      },
      "outputs": [
        {
          "name": "stdout",
          "output_type": "stream",
          "text": [
            "60.6742636173847\n",
            "186.77473456891366\n",
            "245.7056270096463\n"
          ]
        }
      ],
      "source": [
        "print(np.mean(data[(data['POSTED_BY'] == 'Owner')]['TARGET(PRICE_IN_LACS)']))\n",
        "print(np.mean(data[(data['POSTED_BY'] == 'Dealer')]['TARGET(PRICE_IN_LACS)']))\n",
        "print(np.mean(data[(data['POSTED_BY'] == 'Builder')]['TARGET(PRICE_IN_LACS)']))"
      ]
    },
    {
      "cell_type": "code",
      "execution_count": null,
      "id": "0321ce10",
      "metadata": {
        "id": "0321ce10",
        "outputId": "a86a386a-db1c-407d-d934-9fd870abbaf0"
      },
      "outputs": [
        {
          "name": "stdout",
          "output_type": "stream",
          "text": [
            "28000.0\n",
            "30000.0\n",
            "9700.0\n"
          ]
        }
      ],
      "source": [
        "print(np.max(data[(data['POSTED_BY'] == 'Owner')]['TARGET(PRICE_IN_LACS)']))\n",
        "print(np.max(data[(data['POSTED_BY'] == 'Dealer')]['TARGET(PRICE_IN_LACS)']))\n",
        "print(np.max(data[(data['POSTED_BY'] == 'Builder')]['TARGET(PRICE_IN_LACS)']))"
      ]
    },
    {
      "cell_type": "code",
      "execution_count": null,
      "id": "084eca76",
      "metadata": {
        "id": "084eca76",
        "outputId": "d4e1437e-f3a0-4b97-c291-6b8666d9fe0e"
      },
      "outputs": [
        {
          "data": {
            "image/png": "[encoded data removed]",
            "text/plain": [
              "<Figure size 432x288 with 1 Axes>"
            ]
          },
          "metadata": {
            "needs_background": "light"
          },
          "output_type": "display_data"
        }
      ],
      "source": [
        "sns.countplot(x='BHK_NO.', data=data);"
      ]
    },
    {
      "cell_type": "code",
      "execution_count": null,
      "id": "256fd601",
      "metadata": {
        "id": "256fd601",
        "outputId": "50926d28-ebf8-4929-f3cb-e6fd591fa2fa"
      },
      "outputs": [
        {
          "data": {
            "image/png": "[encoded data removed]",
            "text/plain": [
              "<Figure size 432x288 with 1 Axes>"
            ]
          },
          "metadata": {
            "needs_background": "light"
          },
          "output_type": "display_data"
        }
      ],
      "source": [
        "plt.scatter(data['BHK_NO.'], data['LONGITUDE'], c=data['TARGET(PRICE_IN_LACS)'],\n",
        "            cmap=plt.cm.PiYG, alpha=0.1);"
      ]
    },
    {
      "cell_type": "code",
      "execution_count": null,
      "id": "31ab4179",
      "metadata": {
        "id": "31ab4179",
        "outputId": "c4556ce0-6524-410b-cbd4-b28318f1abad"
      },
      "outputs": [
        {
          "data": {
            "image/png": "[encoded data removed]",
            "text/plain": [
              "<Figure size 432x288 with 1 Axes>"
            ]
          },
          "metadata": {
            "needs_background": "light"
          },
          "output_type": "display_data"
        }
      ],
      "source": [
        "plt.scatter(data['BHK_NO.'], data['LATITUDE'], c=data['TARGET(PRICE_IN_LACS)'], alpha=0.1);"
      ]
    },
    {
      "cell_type": "code",
      "execution_count": null,
      "id": "f711c50d",
      "metadata": {
        "id": "f711c50d",
        "outputId": "9b5cf2ff-8024-45fb-e67d-acb265c44cbe"
      },
      "outputs": [
        {
          "data": {
            "text/html": [
              "<div>\n",
              "<style scoped>\n",
              "    .dataframe tbody tr th:only-of-type {\n",
              "        vertical-align: middle;\n",
              "    }\n",
              "\n",
              "    .dataframe tbody tr th {\n",
              "        vertical-align: top;\n",
              "    }\n",
              "\n",
              "    .dataframe thead th {\n",
              "        text-align: right;\n",
              "    }\n",
              "</style>\n",
              "<table border=\"1\" class=\"dataframe\">\n",
              "  <thead>\n",
              "    <tr style=\"text-align: right;\">\n",
              "      <th></th>\n",
              "      <th>UNDER_CONSTRUCTION</th>\n",
              "      <th>RERA</th>\n",
              "      <th>BHK_NO.</th>\n",
              "      <th>SQUARE_FT</th>\n",
              "      <th>READY_TO_MOVE</th>\n",
              "      <th>RESALE</th>\n",
              "      <th>LONGITUDE</th>\n",
              "      <th>LATITUDE</th>\n",
              "      <th>TARGET(PRICE_IN_LACS)</th>\n",
              "    </tr>\n",
              "  </thead>\n",
              "  <tbody>\n",
              "    <tr>\n",
              "      <th>count</th>\n",
              "      <td>29451.000000</td>\n",
              "      <td>29451.000000</td>\n",
              "      <td>29451.000000</td>\n",
              "      <td>2.945100e+04</td>\n",
              "      <td>29451.000000</td>\n",
              "      <td>29451.000000</td>\n",
              "      <td>29451.000000</td>\n",
              "      <td>29451.000000</td>\n",
              "      <td>29451.000000</td>\n",
              "    </tr>\n",
              "    <tr>\n",
              "      <th>mean</th>\n",
              "      <td>0.179756</td>\n",
              "      <td>0.317918</td>\n",
              "      <td>2.392279</td>\n",
              "      <td>1.980217e+04</td>\n",
              "      <td>0.820244</td>\n",
              "      <td>0.929578</td>\n",
              "      <td>21.300255</td>\n",
              "      <td>76.837695</td>\n",
              "      <td>142.898746</td>\n",
              "    </tr>\n",
              "    <tr>\n",
              "      <th>std</th>\n",
              "      <td>0.383991</td>\n",
              "      <td>0.465675</td>\n",
              "      <td>0.879091</td>\n",
              "      <td>1.901335e+06</td>\n",
              "      <td>0.383991</td>\n",
              "      <td>0.255861</td>\n",
              "      <td>6.205306</td>\n",
              "      <td>10.557747</td>\n",
              "      <td>656.880713</td>\n",
              "    </tr>\n",
              "    <tr>\n",
              "      <th>min</th>\n",
              "      <td>0.000000</td>\n",
              "      <td>0.000000</td>\n",
              "      <td>1.000000</td>\n",
              "      <td>3.000000e+00</td>\n",
              "      <td>0.000000</td>\n",
              "      <td>0.000000</td>\n",
              "      <td>-37.713008</td>\n",
              "      <td>-121.761248</td>\n",
              "      <td>0.250000</td>\n",
              "    </tr>\n",
              "    <tr>\n",
              "      <th>25%</th>\n",
              "      <td>0.000000</td>\n",
              "      <td>0.000000</td>\n",
              "      <td>2.000000</td>\n",
              "      <td>9.000211e+02</td>\n",
              "      <td>1.000000</td>\n",
              "      <td>1.000000</td>\n",
              "      <td>18.452663</td>\n",
              "      <td>73.798100</td>\n",
              "      <td>38.000000</td>\n",
              "    </tr>\n",
              "    <tr>\n",
              "      <th>50%</th>\n",
              "      <td>0.000000</td>\n",
              "      <td>0.000000</td>\n",
              "      <td>2.000000</td>\n",
              "      <td>1.175057e+03</td>\n",
              "      <td>1.000000</td>\n",
              "      <td>1.000000</td>\n",
              "      <td>20.750000</td>\n",
              "      <td>77.324137</td>\n",
              "      <td>62.000000</td>\n",
              "    </tr>\n",
              "    <tr>\n",
              "      <th>75%</th>\n",
              "      <td>0.000000</td>\n",
              "      <td>1.000000</td>\n",
              "      <td>3.000000</td>\n",
              "      <td>1.550688e+03</td>\n",
              "      <td>1.000000</td>\n",
              "      <td>1.000000</td>\n",
              "      <td>26.900926</td>\n",
              "      <td>77.828740</td>\n",
              "      <td>100.000000</td>\n",
              "    </tr>\n",
              "    <tr>\n",
              "      <th>max</th>\n",
              "      <td>1.000000</td>\n",
              "      <td>1.000000</td>\n",
              "      <td>20.000000</td>\n",
              "      <td>2.545455e+08</td>\n",
              "      <td>1.000000</td>\n",
              "      <td>1.000000</td>\n",
              "      <td>59.912884</td>\n",
              "      <td>152.962676</td>\n",
              "      <td>30000.000000</td>\n",
              "    </tr>\n",
              "  </tbody>\n",
              "</table>\n",
              "</div>"
            ],
            "text/plain": [
              "       UNDER_CONSTRUCTION          RERA       BHK_NO.     SQUARE_FT  \\\n",
              "count        29451.000000  29451.000000  29451.000000  2.945100e+04   \n",
              "mean             0.179756      0.317918      2.392279  1.980217e+04   \n",
              "std              0.383991      0.465675      0.879091  1.901335e+06   \n",
              "min              0.000000      0.000000      1.000000  3.000000e+00   \n",
              "25%              0.000000      0.000000      2.000000  9.000211e+02   \n",
              "50%              0.000000      0.000000      2.000000  1.175057e+03   \n",
              "75%              0.000000      1.000000      3.000000  1.550688e+03   \n",
              "max              1.000000      1.000000     20.000000  2.545455e+08   \n",
              "\n",
              "       READY_TO_MOVE        RESALE     LONGITUDE      LATITUDE  \\\n",
              "count   29451.000000  29451.000000  29451.000000  29451.000000   \n",
              "mean        0.820244      0.929578     21.300255     76.837695   \n",
              "std         0.383991      0.255861      6.205306     10.557747   \n",
              "min         0.000000      0.000000    -37.713008   -121.761248   \n",
              "25%         1.000000      1.000000     18.452663     73.798100   \n",
              "50%         1.000000      1.000000     20.750000     77.324137   \n",
              "75%         1.000000      1.000000     26.900926     77.828740   \n",
              "max         1.000000      1.000000     59.912884    152.962676   \n",
              "\n",
              "       TARGET(PRICE_IN_LACS)  \n",
              "count           29451.000000  \n",
              "mean              142.898746  \n",
              "std               656.880713  \n",
              "min                 0.250000  \n",
              "25%                38.000000  \n",
              "50%                62.000000  \n",
              "75%               100.000000  \n",
              "max             30000.000000  "
            ]
          },
          "execution_count": 14,
          "metadata": {},
          "output_type": "execute_result"
        }
      ],
      "source": [
        "data.describe()"
      ]
    },
    {
      "cell_type": "code",
      "execution_count": null,
      "id": "a10b3fc4",
      "metadata": {
        "id": "a10b3fc4"
      },
      "outputs": [],
      "source": [
        "data = data.drop(columns=['ADDRESS'])"
      ]
    },
    {
      "cell_type": "code",
      "execution_count": null,
      "id": "98b88642",
      "metadata": {
        "id": "98b88642",
        "outputId": "69a794b8-d9c2-410f-e925-aeaa215f9799"
      },
      "outputs": [
        {
          "data": {
            "text/html": [
              "<div>\n",
              "<style scoped>\n",
              "    .dataframe tbody tr th:only-of-type {\n",
              "        vertical-align: middle;\n",
              "    }\n",
              "\n",
              "    .dataframe tbody tr th {\n",
              "        vertical-align: top;\n",
              "    }\n",
              "\n",
              "    .dataframe thead th {\n",
              "        text-align: right;\n",
              "    }\n",
              "</style>\n",
              "<table border=\"1\" class=\"dataframe\">\n",
              "  <thead>\n",
              "    <tr style=\"text-align: right;\">\n",
              "      <th></th>\n",
              "      <th>POSTED_BY</th>\n",
              "      <th>UNDER_CONSTRUCTION</th>\n",
              "      <th>RERA</th>\n",
              "      <th>BHK_NO.</th>\n",
              "      <th>BHK_OR_RK</th>\n",
              "      <th>SQUARE_FT</th>\n",
              "      <th>READY_TO_MOVE</th>\n",
              "      <th>RESALE</th>\n",
              "      <th>LONGITUDE</th>\n",
              "      <th>LATITUDE</th>\n",
              "      <th>TARGET(PRICE_IN_LACS)</th>\n",
              "    </tr>\n",
              "  </thead>\n",
              "  <tbody>\n",
              "    <tr>\n",
              "      <th>0</th>\n",
              "      <td>Owner</td>\n",
              "      <td>0</td>\n",
              "      <td>0</td>\n",
              "      <td>2</td>\n",
              "      <td>BHK</td>\n",
              "      <td>1300.236407</td>\n",
              "      <td>1</td>\n",
              "      <td>1</td>\n",
              "      <td>12.969910</td>\n",
              "      <td>77.597960</td>\n",
              "      <td>55.0</td>\n",
              "    </tr>\n",
              "    <tr>\n",
              "      <th>1</th>\n",
              "      <td>Dealer</td>\n",
              "      <td>0</td>\n",
              "      <td>0</td>\n",
              "      <td>2</td>\n",
              "      <td>BHK</td>\n",
              "      <td>1275.000000</td>\n",
              "      <td>1</td>\n",
              "      <td>1</td>\n",
              "      <td>12.274538</td>\n",
              "      <td>76.644605</td>\n",
              "      <td>51.0</td>\n",
              "    </tr>\n",
              "    <tr>\n",
              "      <th>2</th>\n",
              "      <td>Owner</td>\n",
              "      <td>0</td>\n",
              "      <td>0</td>\n",
              "      <td>2</td>\n",
              "      <td>BHK</td>\n",
              "      <td>933.159722</td>\n",
              "      <td>1</td>\n",
              "      <td>1</td>\n",
              "      <td>12.778033</td>\n",
              "      <td>77.632191</td>\n",
              "      <td>43.0</td>\n",
              "    </tr>\n",
              "    <tr>\n",
              "      <th>3</th>\n",
              "      <td>Owner</td>\n",
              "      <td>0</td>\n",
              "      <td>1</td>\n",
              "      <td>2</td>\n",
              "      <td>BHK</td>\n",
              "      <td>929.921143</td>\n",
              "      <td>1</td>\n",
              "      <td>1</td>\n",
              "      <td>28.642300</td>\n",
              "      <td>77.344500</td>\n",
              "      <td>62.5</td>\n",
              "    </tr>\n",
              "    <tr>\n",
              "      <th>4</th>\n",
              "      <td>Dealer</td>\n",
              "      <td>1</td>\n",
              "      <td>0</td>\n",
              "      <td>2</td>\n",
              "      <td>BHK</td>\n",
              "      <td>999.009247</td>\n",
              "      <td>0</td>\n",
              "      <td>1</td>\n",
              "      <td>22.592200</td>\n",
              "      <td>88.484911</td>\n",
              "      <td>60.5</td>\n",
              "    </tr>\n",
              "    <tr>\n",
              "      <th>...</th>\n",
              "      <td>...</td>\n",
              "      <td>...</td>\n",
              "      <td>...</td>\n",
              "      <td>...</td>\n",
              "      <td>...</td>\n",
              "      <td>...</td>\n",
              "      <td>...</td>\n",
              "      <td>...</td>\n",
              "      <td>...</td>\n",
              "      <td>...</td>\n",
              "      <td>...</td>\n",
              "    </tr>\n",
              "    <tr>\n",
              "      <th>29446</th>\n",
              "      <td>Owner</td>\n",
              "      <td>0</td>\n",
              "      <td>0</td>\n",
              "      <td>3</td>\n",
              "      <td>BHK</td>\n",
              "      <td>2500.000000</td>\n",
              "      <td>1</td>\n",
              "      <td>1</td>\n",
              "      <td>27.140626</td>\n",
              "      <td>78.043277</td>\n",
              "      <td>45.0</td>\n",
              "    </tr>\n",
              "    <tr>\n",
              "      <th>29447</th>\n",
              "      <td>Owner</td>\n",
              "      <td>0</td>\n",
              "      <td>0</td>\n",
              "      <td>2</td>\n",
              "      <td>BHK</td>\n",
              "      <td>769.230769</td>\n",
              "      <td>1</td>\n",
              "      <td>1</td>\n",
              "      <td>39.945409</td>\n",
              "      <td>-86.150721</td>\n",
              "      <td>16.0</td>\n",
              "    </tr>\n",
              "    <tr>\n",
              "      <th>29448</th>\n",
              "      <td>Dealer</td>\n",
              "      <td>0</td>\n",
              "      <td>0</td>\n",
              "      <td>2</td>\n",
              "      <td>BHK</td>\n",
              "      <td>1022.641509</td>\n",
              "      <td>1</td>\n",
              "      <td>1</td>\n",
              "      <td>26.928785</td>\n",
              "      <td>75.828002</td>\n",
              "      <td>27.1</td>\n",
              "    </tr>\n",
              "    <tr>\n",
              "      <th>29449</th>\n",
              "      <td>Owner</td>\n",
              "      <td>0</td>\n",
              "      <td>0</td>\n",
              "      <td>2</td>\n",
              "      <td>BHK</td>\n",
              "      <td>927.079009</td>\n",
              "      <td>1</td>\n",
              "      <td>1</td>\n",
              "      <td>12.900150</td>\n",
              "      <td>80.227910</td>\n",
              "      <td>67.0</td>\n",
              "    </tr>\n",
              "    <tr>\n",
              "      <th>29450</th>\n",
              "      <td>Dealer</td>\n",
              "      <td>0</td>\n",
              "      <td>1</td>\n",
              "      <td>2</td>\n",
              "      <td>BHK</td>\n",
              "      <td>896.774194</td>\n",
              "      <td>1</td>\n",
              "      <td>1</td>\n",
              "      <td>26.832353</td>\n",
              "      <td>75.841749</td>\n",
              "      <td>27.8</td>\n",
              "    </tr>\n",
              "  </tbody>\n",
              "</table>\n",
              "<p>29451 rows × 11 columns</p>\n",
              "</div>"
            ],
            "text/plain": [
              "      POSTED_BY  UNDER_CONSTRUCTION  RERA  BHK_NO. BHK_OR_RK    SQUARE_FT  \\\n",
              "0         Owner                   0     0        2       BHK  1300.236407   \n",
              "1        Dealer                   0     0        2       BHK  1275.000000   \n",
              "2         Owner                   0     0        2       BHK   933.159722   \n",
              "3         Owner                   0     1        2       BHK   929.921143   \n",
              "4        Dealer                   1     0        2       BHK   999.009247   \n",
              "...         ...                 ...   ...      ...       ...          ...   \n",
              "29446     Owner                   0     0        3       BHK  2500.000000   \n",
              "29447     Owner                   0     0        2       BHK   769.230769   \n",
              "29448    Dealer                   0     0        2       BHK  1022.641509   \n",
              "29449     Owner                   0     0        2       BHK   927.079009   \n",
              "29450    Dealer                   0     1        2       BHK   896.774194   \n",
              "\n",
              "       READY_TO_MOVE  RESALE  LONGITUDE   LATITUDE  TARGET(PRICE_IN_LACS)  \n",
              "0                  1       1  12.969910  77.597960                   55.0  \n",
              "1                  1       1  12.274538  76.644605                   51.0  \n",
              "2                  1       1  12.778033  77.632191                   43.0  \n",
              "3                  1       1  28.642300  77.344500                   62.5  \n",
              "4                  0       1  22.592200  88.484911                   60.5  \n",
              "...              ...     ...        ...        ...                    ...  \n",
              "29446              1       1  27.140626  78.043277                   45.0  \n",
              "29447              1       1  39.945409 -86.150721                   16.0  \n",
              "29448              1       1  26.928785  75.828002                   27.1  \n",
              "29449              1       1  12.900150  80.227910                   67.0  \n",
              "29450              1       1  26.832353  75.841749                   27.8  \n",
              "\n",
              "[29451 rows x 11 columns]"
            ]
          },
          "execution_count": 16,
          "metadata": {},
          "output_type": "execute_result"
        }
      ],
      "source": [
        "data"
      ]
    },
    {
      "cell_type": "code",
      "execution_count": null,
      "id": "3ea511a6",
      "metadata": {
        "id": "3ea511a6"
      },
      "outputs": [],
      "source": [
        "from sklearn.preprocessing import LabelEncoder"
      ]
    },
    {
      "cell_type": "code",
      "execution_count": null,
      "id": "f125b9ac",
      "metadata": {
        "id": "f125b9ac"
      },
      "outputs": [],
      "source": [
        "X = data.drop(columns='TARGET(PRICE_IN_LACS)')\n",
        "y = data['TARGET(PRICE_IN_LACS)']"
      ]
    },
    {
      "cell_type": "code",
      "execution_count": null,
      "id": "f7fbdcb0",
      "metadata": {
        "id": "f7fbdcb0"
      },
      "outputs": [],
      "source": [
        "LE = LabelEncoder()"
      ]
    },
    {
      "cell_type": "code",
      "execution_count": null,
      "id": "678f6b8d",
      "metadata": {
        "id": "678f6b8d"
      },
      "outputs": [],
      "source": [
        "X['POSTED_BY'] = LE.fit_transform(X['POSTED_BY'])\n",
        "X['BHK_OR_RK'] = LE.fit_transform(X['BHK_OR_RK'])"
      ]
    },
    {
      "cell_type": "code",
      "execution_count": null,
      "id": "ccababaf",
      "metadata": {
        "id": "ccababaf",
        "outputId": "67961789-30d5-4b64-cec7-b5196b64c411"
      },
      "outputs": [
        {
          "name": "stdout",
          "output_type": "stream",
          "text": [
            "<class 'pandas.core.frame.DataFrame'>\n",
            "RangeIndex: 29451 entries, 0 to 29450\n",
            "Data columns (total 10 columns):\n",
            " #   Column              Non-Null Count  Dtype  \n",
            "---  ------              --------------  -----  \n",
            " 0   POSTED_BY           29451 non-null  int64  \n",
            " 1   UNDER_CONSTRUCTION  29451 non-null  int64  \n",
            " 2   RERA                29451 non-null  int64  \n",
            " 3   BHK_NO.             29451 non-null  int64  \n",
            " 4   BHK_OR_RK           29451 non-null  int64  \n",
            " 5   SQUARE_FT           29451 non-null  float64\n",
            " 6   READY_TO_MOVE       29451 non-null  int64  \n",
            " 7   RESALE              29451 non-null  int64  \n",
            " 8   LONGITUDE           29451 non-null  float64\n",
            " 9   LATITUDE            29451 non-null  float64\n",
            "dtypes: float64(3), int64(7)\n",
            "memory usage: 2.2 MB\n"
          ]
        }
      ],
      "source": [
        "X.info()"
      ]
    },
    {
      "cell_type": "code",
      "execution_count": null,
      "id": "09a874d0",
      "metadata": {
        "id": "09a874d0",
        "outputId": "f18c1e75-6ada-4ca2-a116-ad1e7091fe58"
      },
      "outputs": [
        {
          "data": {
            "text/html": [
              "<div>\n",
              "<style scoped>\n",
              "    .dataframe tbody tr th:only-of-type {\n",
              "        vertical-align: middle;\n",
              "    }\n",
              "\n",
              "    .dataframe tbody tr th {\n",
              "        vertical-align: top;\n",
              "    }\n",
              "\n",
              "    .dataframe thead th {\n",
              "        text-align: right;\n",
              "    }\n",
              "</style>\n",
              "<table border=\"1\" class=\"dataframe\">\n",
              "  <thead>\n",
              "    <tr style=\"text-align: right;\">\n",
              "      <th></th>\n",
              "      <th>POSTED_BY</th>\n",
              "      <th>UNDER_CONSTRUCTION</th>\n",
              "      <th>RERA</th>\n",
              "      <th>BHK_NO.</th>\n",
              "      <th>BHK_OR_RK</th>\n",
              "      <th>SQUARE_FT</th>\n",
              "      <th>READY_TO_MOVE</th>\n",
              "      <th>RESALE</th>\n",
              "      <th>LONGITUDE</th>\n",
              "      <th>LATITUDE</th>\n",
              "    </tr>\n",
              "  </thead>\n",
              "  <tbody>\n",
              "    <tr>\n",
              "      <th>count</th>\n",
              "      <td>29451.000000</td>\n",
              "      <td>29451.000000</td>\n",
              "      <td>29451.000000</td>\n",
              "      <td>29451.000000</td>\n",
              "      <td>29451.000000</td>\n",
              "      <td>2.945100e+04</td>\n",
              "      <td>29451.000000</td>\n",
              "      <td>29451.000000</td>\n",
              "      <td>29451.000000</td>\n",
              "      <td>29451.000000</td>\n",
              "    </tr>\n",
              "    <tr>\n",
              "      <th>mean</th>\n",
              "      <td>1.336695</td>\n",
              "      <td>0.179756</td>\n",
              "      <td>0.317918</td>\n",
              "      <td>2.392279</td>\n",
              "      <td>0.000815</td>\n",
              "      <td>1.980217e+04</td>\n",
              "      <td>0.820244</td>\n",
              "      <td>0.929578</td>\n",
              "      <td>21.300255</td>\n",
              "      <td>76.837695</td>\n",
              "    </tr>\n",
              "    <tr>\n",
              "      <th>std</th>\n",
              "      <td>0.515345</td>\n",
              "      <td>0.383991</td>\n",
              "      <td>0.465675</td>\n",
              "      <td>0.879091</td>\n",
              "      <td>0.028536</td>\n",
              "      <td>1.901335e+06</td>\n",
              "      <td>0.383991</td>\n",
              "      <td>0.255861</td>\n",
              "      <td>6.205306</td>\n",
              "      <td>10.557747</td>\n",
              "    </tr>\n",
              "    <tr>\n",
              "      <th>min</th>\n",
              "      <td>0.000000</td>\n",
              "      <td>0.000000</td>\n",
              "      <td>0.000000</td>\n",
              "      <td>1.000000</td>\n",
              "      <td>0.000000</td>\n",
              "      <td>3.000000e+00</td>\n",
              "      <td>0.000000</td>\n",
              "      <td>0.000000</td>\n",
              "      <td>-37.713008</td>\n",
              "      <td>-121.761248</td>\n",
              "    </tr>\n",
              "    <tr>\n",
              "      <th>25%</th>\n",
              "      <td>1.000000</td>\n",
              "      <td>0.000000</td>\n",
              "      <td>0.000000</td>\n",
              "      <td>2.000000</td>\n",
              "      <td>0.000000</td>\n",
              "      <td>9.000211e+02</td>\n",
              "      <td>1.000000</td>\n",
              "      <td>1.000000</td>\n",
              "      <td>18.452663</td>\n",
              "      <td>73.798100</td>\n",
              "    </tr>\n",
              "    <tr>\n",
              "      <th>50%</th>\n",
              "      <td>1.000000</td>\n",
              "      <td>0.000000</td>\n",
              "      <td>0.000000</td>\n",
              "      <td>2.000000</td>\n",
              "      <td>0.000000</td>\n",
              "      <td>1.175057e+03</td>\n",
              "      <td>1.000000</td>\n",
              "      <td>1.000000</td>\n",
              "      <td>20.750000</td>\n",
              "      <td>77.324137</td>\n",
              "    </tr>\n",
              "    <tr>\n",
              "      <th>75%</th>\n",
              "      <td>2.000000</td>\n",
              "      <td>0.000000</td>\n",
              "      <td>1.000000</td>\n",
              "      <td>3.000000</td>\n",
              "      <td>0.000000</td>\n",
              "      <td>1.550688e+03</td>\n",
              "      <td>1.000000</td>\n",
              "      <td>1.000000</td>\n",
              "      <td>26.900926</td>\n",
              "      <td>77.828740</td>\n",
              "    </tr>\n",
              "    <tr>\n",
              "      <th>max</th>\n",
              "      <td>2.000000</td>\n",
              "      <td>1.000000</td>\n",
              "      <td>1.000000</td>\n",
              "      <td>20.000000</td>\n",
              "      <td>1.000000</td>\n",
              "      <td>2.545455e+08</td>\n",
              "      <td>1.000000</td>\n",
              "      <td>1.000000</td>\n",
              "      <td>59.912884</td>\n",
              "      <td>152.962676</td>\n",
              "    </tr>\n",
              "  </tbody>\n",
              "</table>\n",
              "</div>"
            ],
            "text/plain": [
              "          POSTED_BY  UNDER_CONSTRUCTION          RERA       BHK_NO.  \\\n",
              "count  29451.000000        29451.000000  29451.000000  29451.000000   \n",
              "mean       1.336695            0.179756      0.317918      2.392279   \n",
              "std        0.515345            0.383991      0.465675      0.879091   \n",
              "min        0.000000            0.000000      0.000000      1.000000   \n",
              "25%        1.000000            0.000000      0.000000      2.000000   \n",
              "50%        1.000000            0.000000      0.000000      2.000000   \n",
              "75%        2.000000            0.000000      1.000000      3.000000   \n",
              "max        2.000000            1.000000      1.000000     20.000000   \n",
              "\n",
              "          BHK_OR_RK     SQUARE_FT  READY_TO_MOVE        RESALE     LONGITUDE  \\\n",
              "count  29451.000000  2.945100e+04   29451.000000  29451.000000  29451.000000   \n",
              "mean       0.000815  1.980217e+04       0.820244      0.929578     21.300255   \n",
              "std        0.028536  1.901335e+06       0.383991      0.255861      6.205306   \n",
              "min        0.000000  3.000000e+00       0.000000      0.000000    -37.713008   \n",
              "25%        0.000000  9.000211e+02       1.000000      1.000000     18.452663   \n",
              "50%        0.000000  1.175057e+03       1.000000      1.000000     20.750000   \n",
              "75%        0.000000  1.550688e+03       1.000000      1.000000     26.900926   \n",
              "max        1.000000  2.545455e+08       1.000000      1.000000     59.912884   \n",
              "\n",
              "           LATITUDE  \n",
              "count  29451.000000  \n",
              "mean      76.837695  \n",
              "std       10.557747  \n",
              "min     -121.761248  \n",
              "25%       73.798100  \n",
              "50%       77.324137  \n",
              "75%       77.828740  \n",
              "max      152.962676  "
            ]
          },
          "execution_count": 22,
          "metadata": {},
          "output_type": "execute_result"
        }
      ],
      "source": [
        "X.describe()"
      ]
    },
    {
      "cell_type": "code",
      "execution_count": null,
      "id": "d942025f",
      "metadata": {
        "id": "d942025f"
      },
      "outputs": [],
      "source": [
        "from sklearn.preprocessing import MaxAbsScaler, StandardScaler"
      ]
    },
    {
      "cell_type": "code",
      "execution_count": null,
      "id": "cbad7bb1",
      "metadata": {
        "id": "cbad7bb1"
      },
      "outputs": [],
      "source": [
        "SS = StandardScaler()"
      ]
    },
    {
      "cell_type": "code",
      "execution_count": null,
      "id": "cfe309e7",
      "metadata": {
        "id": "cfe309e7"
      },
      "outputs": [],
      "source": [
        "X[['SQUARE_FT']] = SS.fit_transform(X[['SQUARE_FT']])"
      ]
    },
    {
      "cell_type": "code",
      "execution_count": null,
      "id": "21636481",
      "metadata": {
        "id": "21636481"
      },
      "outputs": [],
      "source": [
        "X[['LONGITUDE']] = MaxAbsScaler().fit_transform(X[['LONGITUDE']])\n",
        "X[['LATITUDE']] = MaxAbsScaler().fit_transform(X[['LATITUDE']])"
      ]
    },
    {
      "cell_type": "code",
      "execution_count": null,
      "id": "d3ee4aa7",
      "metadata": {
        "id": "d3ee4aa7",
        "outputId": "6a72cde0-7149-4a6f-bdf6-93b2bda89aa9"
      },
      "outputs": [
        {
          "data": {
            "text/html": [
              "<div>\n",
              "<style scoped>\n",
              "    .dataframe tbody tr th:only-of-type {\n",
              "        vertical-align: middle;\n",
              "    }\n",
              "\n",
              "    .dataframe tbody tr th {\n",
              "        vertical-align: top;\n",
              "    }\n",
              "\n",
              "    .dataframe thead th {\n",
              "        text-align: right;\n",
              "    }\n",
              "</style>\n",
              "<table border=\"1\" class=\"dataframe\">\n",
              "  <thead>\n",
              "    <tr style=\"text-align: right;\">\n",
              "      <th></th>\n",
              "      <th>POSTED_BY</th>\n",
              "      <th>UNDER_CONSTRUCTION</th>\n",
              "      <th>RERA</th>\n",
              "      <th>BHK_NO.</th>\n",
              "      <th>BHK_OR_RK</th>\n",
              "      <th>SQUARE_FT</th>\n",
              "      <th>READY_TO_MOVE</th>\n",
              "      <th>RESALE</th>\n",
              "      <th>LONGITUDE</th>\n",
              "      <th>LATITUDE</th>\n",
              "    </tr>\n",
              "  </thead>\n",
              "  <tbody>\n",
              "    <tr>\n",
              "      <th>count</th>\n",
              "      <td>29451.000000</td>\n",
              "      <td>29451.000000</td>\n",
              "      <td>29451.000000</td>\n",
              "      <td>29451.000000</td>\n",
              "      <td>29451.000000</td>\n",
              "      <td>2.945100e+04</td>\n",
              "      <td>29451.000000</td>\n",
              "      <td>29451.000000</td>\n",
              "      <td>29451.000000</td>\n",
              "      <td>29451.000000</td>\n",
              "    </tr>\n",
              "    <tr>\n",
              "      <th>mean</th>\n",
              "      <td>1.336695</td>\n",
              "      <td>0.179756</td>\n",
              "      <td>0.317918</td>\n",
              "      <td>2.392279</td>\n",
              "      <td>0.000815</td>\n",
              "      <td>-1.930101e-18</td>\n",
              "      <td>0.820244</td>\n",
              "      <td>0.929578</td>\n",
              "      <td>0.355520</td>\n",
              "      <td>0.502330</td>\n",
              "    </tr>\n",
              "    <tr>\n",
              "      <th>std</th>\n",
              "      <td>0.515345</td>\n",
              "      <td>0.383991</td>\n",
              "      <td>0.465675</td>\n",
              "      <td>0.879091</td>\n",
              "      <td>0.028536</td>\n",
              "      <td>1.000017e+00</td>\n",
              "      <td>0.383991</td>\n",
              "      <td>0.255861</td>\n",
              "      <td>0.103572</td>\n",
              "      <td>0.069022</td>\n",
              "    </tr>\n",
              "    <tr>\n",
              "      <th>min</th>\n",
              "      <td>0.000000</td>\n",
              "      <td>0.000000</td>\n",
              "      <td>0.000000</td>\n",
              "      <td>1.000000</td>\n",
              "      <td>0.000000</td>\n",
              "      <td>-1.041348e-02</td>\n",
              "      <td>0.000000</td>\n",
              "      <td>0.000000</td>\n",
              "      <td>-0.629464</td>\n",
              "      <td>-0.796019</td>\n",
              "    </tr>\n",
              "    <tr>\n",
              "      <th>25%</th>\n",
              "      <td>1.000000</td>\n",
              "      <td>0.000000</td>\n",
              "      <td>0.000000</td>\n",
              "      <td>2.000000</td>\n",
              "      <td>0.000000</td>\n",
              "      <td>-9.941684e-03</td>\n",
              "      <td>1.000000</td>\n",
              "      <td>1.000000</td>\n",
              "      <td>0.307992</td>\n",
              "      <td>0.482458</td>\n",
              "    </tr>\n",
              "    <tr>\n",
              "      <th>50%</th>\n",
              "      <td>1.000000</td>\n",
              "      <td>0.000000</td>\n",
              "      <td>0.000000</td>\n",
              "      <td>2.000000</td>\n",
              "      <td>0.000000</td>\n",
              "      <td>-9.797027e-03</td>\n",
              "      <td>1.000000</td>\n",
              "      <td>1.000000</td>\n",
              "      <td>0.346336</td>\n",
              "      <td>0.505510</td>\n",
              "    </tr>\n",
              "    <tr>\n",
              "      <th>75%</th>\n",
              "      <td>2.000000</td>\n",
              "      <td>0.000000</td>\n",
              "      <td>1.000000</td>\n",
              "      <td>3.000000</td>\n",
              "      <td>0.000000</td>\n",
              "      <td>-9.599462e-03</td>\n",
              "      <td>1.000000</td>\n",
              "      <td>1.000000</td>\n",
              "      <td>0.449001</td>\n",
              "      <td>0.508809</td>\n",
              "    </tr>\n",
              "    <tr>\n",
              "      <th>max</th>\n",
              "      <td>2.000000</td>\n",
              "      <td>1.000000</td>\n",
              "      <td>1.000000</td>\n",
              "      <td>20.000000</td>\n",
              "      <td>1.000000</td>\n",
              "      <td>1.338691e+02</td>\n",
              "      <td>1.000000</td>\n",
              "      <td>1.000000</td>\n",
              "      <td>1.000000</td>\n",
              "      <td>1.000000</td>\n",
              "    </tr>\n",
              "  </tbody>\n",
              "</table>\n",
              "</div>"
            ],
            "text/plain": [
              "          POSTED_BY  UNDER_CONSTRUCTION          RERA       BHK_NO.  \\\n",
              "count  29451.000000        29451.000000  29451.000000  29451.000000   \n",
              "mean       1.336695            0.179756      0.317918      2.392279   \n",
              "std        0.515345            0.383991      0.465675      0.879091   \n",
              "min        0.000000            0.000000      0.000000      1.000000   \n",
              "25%        1.000000            0.000000      0.000000      2.000000   \n",
              "50%        1.000000            0.000000      0.000000      2.000000   \n",
              "75%        2.000000            0.000000      1.000000      3.000000   \n",
              "max        2.000000            1.000000      1.000000     20.000000   \n",
              "\n",
              "          BHK_OR_RK     SQUARE_FT  READY_TO_MOVE        RESALE     LONGITUDE  \\\n",
              "count  29451.000000  2.945100e+04   29451.000000  29451.000000  29451.000000   \n",
              "mean       0.000815 -1.930101e-18       0.820244      0.929578      0.355520   \n",
              "std        0.028536  1.000017e+00       0.383991      0.255861      0.103572   \n",
              "min        0.000000 -1.041348e-02       0.000000      0.000000     -0.629464   \n",
              "25%        0.000000 -9.941684e-03       1.000000      1.000000      0.307992   \n",
              "50%        0.000000 -9.797027e-03       1.000000      1.000000      0.346336   \n",
              "75%        0.000000 -9.599462e-03       1.000000      1.000000      0.449001   \n",
              "max        1.000000  1.338691e+02       1.000000      1.000000      1.000000   \n",
              "\n",
              "           LATITUDE  \n",
              "count  29451.000000  \n",
              "mean       0.502330  \n",
              "std        0.069022  \n",
              "min       -0.796019  \n",
              "25%        0.482458  \n",
              "50%        0.505510  \n",
              "75%        0.508809  \n",
              "max        1.000000  "
            ]
          },
          "execution_count": 27,
          "metadata": {},
          "output_type": "execute_result"
        }
      ],
      "source": [
        "X.describe()"
      ]
    },
    {
      "cell_type": "markdown",
      "id": "d3f399db",
      "metadata": {
        "id": "d3f399db"
      },
      "source": [
        "## Simple Linear Model\n",
        "$$min_{w} \\|Xw - y\\|^2_2$$"
      ]
    },
    {
      "cell_type": "code",
      "execution_count": null,
      "id": "7f51443b",
      "metadata": {
        "id": "7f51443b"
      },
      "outputs": [],
      "source": [
        "from sklearn.linear_model import LinearRegression \n",
        "from sklearn.model_selection import train_test_split"
      ]
    },
    {
      "cell_type": "code",
      "execution_count": null,
      "id": "62f94885",
      "metadata": {
        "id": "62f94885"
      },
      "outputs": [],
      "source": [
        "X_train, X_test, y_train, y_test = train_test_split(X, y, test_size=0.3, random_state=1111)"
      ]
    },
    {
      "cell_type": "code",
      "execution_count": null,
      "id": "6dfd84ae",
      "metadata": {
        "id": "6dfd84ae",
        "outputId": "a352075c-e967-4860-d268-091bf0592606"
      },
      "outputs": [
        {
          "data": {
            "text/plain": [
              "((20615, 10), (8836, 10), (20615,), (8836,))"
            ]
          },
          "execution_count": 30,
          "metadata": {},
          "output_type": "execute_result"
        }
      ],
      "source": [
        "X_train.shape, X_test.shape, y_train.shape, y_test.shape"
      ]
    },
    {
      "cell_type": "code",
      "execution_count": null,
      "id": "8108a2e4",
      "metadata": {
        "id": "8108a2e4",
        "outputId": "e6010dda-af8a-44b9-e3e1-efa9f841cc14"
      },
      "outputs": [
        {
          "data": {
            "text/plain": [
              "LinearRegression()"
            ]
          },
          "execution_count": 31,
          "metadata": {},
          "output_type": "execute_result"
        }
      ],
      "source": [
        "LR = LinearRegression()\n",
        "LR.fit(X_train, y_train)"
      ]
    },
    {
      "cell_type": "code",
      "execution_count": null,
      "id": "0add0350",
      "metadata": {
        "id": "0add0350"
      },
      "outputs": [],
      "source": [
        "y_pred = LR.predict(X_test)"
      ]
    },
    {
      "cell_type": "code",
      "execution_count": null,
      "id": "6683dfaf",
      "metadata": {
        "id": "6683dfaf",
        "outputId": "8fc60b79-b932-49e2-ae44-b4f75a66fe4f"
      },
      "outputs": [
        {
          "data": {
            "image/png": "[encoded data removed]",
            "text/plain": [
              "<Figure size 432x288 with 1 Axes>"
            ]
          },
          "metadata": {
            "needs_background": "light"
          },
          "output_type": "display_data"
        }
      ],
      "source": [
        "x = np.linspace(0, max(np.max(y_test), np.max(y_pred)), 15000)\n",
        "plt.plot(x, x)\n",
        "plt.scatter(y_test, y_pred, alpha=0.5);\n",
        "plt.xlabel('y_true');\n",
        "plt.ylabel('y_pred');"
      ]
    },
    {
      "cell_type": "code",
      "execution_count": null,
      "id": "0f6fb389",
      "metadata": {
        "id": "0f6fb389"
      },
      "outputs": [],
      "source": [
        "from sklearn.preprocessing import PolynomialFeatures\n",
        "from sklearn.pipeline import Pipeline"
      ]
    },
    {
      "cell_type": "markdown",
      "id": "c55c90e6",
      "metadata": {
        "id": "c55c90e6"
      },
      "source": [
        "for example :\n",
        "\n",
        "$x_1$ and $x_2$ are inputs\n",
        "\n",
        "the the outputs are as follows:\n",
        "\n",
        "$1$, $x_1$, $x_2$, $x_1^2$, $x_2^2$, and $x_1 x_2$\n",
        "\n"
      ]
    },
    {
      "cell_type": "code",
      "execution_count": null,
      "id": "a13341f3",
      "metadata": {
        "id": "a13341f3",
        "outputId": "93ea6fb5-8bc0-4c8b-828a-1557fd974e8e"
      },
      "outputs": [
        {
          "data": {
            "text/plain": [
              "Pipeline(steps=[('poly feature', PolynomialFeatures()),\n",
              "                ('regressor', LinearRegression())])"
            ]
          },
          "execution_count": 44,
          "metadata": {},
          "output_type": "execute_result"
        }
      ],
      "source": [
        "steps = [('poly feature', PolynomialFeatures(degree=2)),\n",
        "         ('regressor', LinearRegression())]\n",
        "\n",
        "LR = Pipeline(steps=steps)\n",
        "LR.fit(X_train, y_train)"
      ]
    },
    {
      "cell_type": "code",
      "execution_count": null,
      "id": "b842578a",
      "metadata": {
        "id": "b842578a",
        "outputId": "97675db7-e8a5-4559-d9d7-49ad29a93fbd"
      },
      "outputs": [
        {
          "data": {
            "image/png": "[encoded data removed]",
            "text/plain": [
              "<Figure size 432x288 with 1 Axes>"
            ]
          },
          "metadata": {
            "needs_background": "light"
          },
          "output_type": "display_data"
        }
      ],
      "source": [
        "y_pred = LR.predict(X_test)\n",
        "\n",
        "x = np.linspace(0, max(np.max(y_test), np.max(y_pred)), 15000)\n",
        "plt.plot(x, x)\n",
        "plt.scatter(y_test, y_pred, alpha=0.5);\n",
        "plt.xlabel('y_true');\n",
        "plt.ylabel('y_pred');"
      ]
    },
    {
      "cell_type": "code",
      "execution_count": null,
      "id": "860c50c4",
      "metadata": {
        "id": "860c50c4",
        "outputId": "f5d79473-2b92-4fae-9cac-b882b8d2b58a"
      },
      "outputs": [
        {
          "data": {
            "text/html": [
              "<div>\n",
              "<style scoped>\n",
              "    .dataframe tbody tr th:only-of-type {\n",
              "        vertical-align: middle;\n",
              "    }\n",
              "\n",
              "    .dataframe tbody tr th {\n",
              "        vertical-align: top;\n",
              "    }\n",
              "\n",
              "    .dataframe thead th {\n",
              "        text-align: right;\n",
              "    }\n",
              "</style>\n",
              "<table border=\"1\" class=\"dataframe\">\n",
              "  <thead>\n",
              "    <tr style=\"text-align: right;\">\n",
              "      <th></th>\n",
              "      <th>Builder</th>\n",
              "      <th>Dealer</th>\n",
              "      <th>Owner</th>\n",
              "    </tr>\n",
              "  </thead>\n",
              "  <tbody>\n",
              "    <tr>\n",
              "      <th>0</th>\n",
              "      <td>0</td>\n",
              "      <td>0</td>\n",
              "      <td>1</td>\n",
              "    </tr>\n",
              "    <tr>\n",
              "      <th>1</th>\n",
              "      <td>0</td>\n",
              "      <td>1</td>\n",
              "      <td>0</td>\n",
              "    </tr>\n",
              "    <tr>\n",
              "      <th>2</th>\n",
              "      <td>0</td>\n",
              "      <td>0</td>\n",
              "      <td>1</td>\n",
              "    </tr>\n",
              "    <tr>\n",
              "      <th>3</th>\n",
              "      <td>0</td>\n",
              "      <td>0</td>\n",
              "      <td>1</td>\n",
              "    </tr>\n",
              "    <tr>\n",
              "      <th>4</th>\n",
              "      <td>0</td>\n",
              "      <td>1</td>\n",
              "      <td>0</td>\n",
              "    </tr>\n",
              "    <tr>\n",
              "      <th>...</th>\n",
              "      <td>...</td>\n",
              "      <td>...</td>\n",
              "      <td>...</td>\n",
              "    </tr>\n",
              "    <tr>\n",
              "      <th>29446</th>\n",
              "      <td>0</td>\n",
              "      <td>0</td>\n",
              "      <td>1</td>\n",
              "    </tr>\n",
              "    <tr>\n",
              "      <th>29447</th>\n",
              "      <td>0</td>\n",
              "      <td>0</td>\n",
              "      <td>1</td>\n",
              "    </tr>\n",
              "    <tr>\n",
              "      <th>29448</th>\n",
              "      <td>0</td>\n",
              "      <td>1</td>\n",
              "      <td>0</td>\n",
              "    </tr>\n",
              "    <tr>\n",
              "      <th>29449</th>\n",
              "      <td>0</td>\n",
              "      <td>0</td>\n",
              "      <td>1</td>\n",
              "    </tr>\n",
              "    <tr>\n",
              "      <th>29450</th>\n",
              "      <td>0</td>\n",
              "      <td>1</td>\n",
              "      <td>0</td>\n",
              "    </tr>\n",
              "  </tbody>\n",
              "</table>\n",
              "<p>29451 rows × 3 columns</p>\n",
              "</div>"
            ],
            "text/plain": [
              "       Builder  Dealer  Owner\n",
              "0            0       0      1\n",
              "1            0       1      0\n",
              "2            0       0      1\n",
              "3            0       0      1\n",
              "4            0       1      0\n",
              "...        ...     ...    ...\n",
              "29446        0       0      1\n",
              "29447        0       0      1\n",
              "29448        0       1      0\n",
              "29449        0       0      1\n",
              "29450        0       1      0\n",
              "\n",
              "[29451 rows x 3 columns]"
            ]
          },
          "execution_count": 41,
          "metadata": {},
          "output_type": "execute_result"
        }
      ],
      "source": [
        "pd.get_dummies(data['POSTED_BY'])"
      ]
    },
    {
      "cell_type": "markdown",
      "id": "4dc77ece",
      "metadata": {
        "id": "4dc77ece"
      },
      "source": [
        "## Ridge Model\n",
        "$$min_{w} \\|Xw - y\\|^2_2 + \\alpha \\|w\\|_2^2$$"
      ]
    },
    {
      "cell_type": "code",
      "execution_count": null,
      "id": "0ae5e5f3",
      "metadata": {
        "id": "0ae5e5f3"
      },
      "outputs": [],
      "source": [
        "from sklearn.linear_model import Ridge"
      ]
    },
    {
      "cell_type": "code",
      "execution_count": null,
      "id": "5d31a263",
      "metadata": {
        "id": "5d31a263",
        "outputId": "b3041000-1029-4787-e270-e1e30ab0b46f"
      },
      "outputs": [
        {
          "data": {
            "text/plain": [
              "Pipeline(steps=[('poly feature', PolynomialFeatures(degree=3)),\n",
              "                ('regressor', Ridge(alpha=0.1))])"
            ]
          },
          "execution_count": 62,
          "metadata": {},
          "output_type": "execute_result"
        }
      ],
      "source": [
        "steps = [('poly feature', PolynomialFeatures(degree=3)),\n",
        "         ('regressor', Ridge(alpha=0.1))]\n",
        "\n",
        "LR = Pipeline(steps=steps)\n",
        "LR.fit(X_train, y_train)"
      ]
    },
    {
      "cell_type": "code",
      "execution_count": null,
      "id": "41706044",
      "metadata": {
        "id": "41706044",
        "outputId": "644134a3-9ba3-4ae7-d360-526b910e0213"
      },
      "outputs": [
        {
          "data": {
            "image/png": "[encoded data removed]",
            "text/plain": [
              "<Figure size 432x288 with 1 Axes>"
            ]
          },
          "metadata": {
            "needs_background": "light"
          },
          "output_type": "display_data"
        }
      ],
      "source": [
        "y_pred = LR.predict(X_test)\n",
        "\n",
        "x = np.linspace(0, max(np.max(y_test), np.max(y_pred)), 15000)\n",
        "plt.plot(x, x)\n",
        "plt.scatter(y_test, y_pred, alpha=0.5);\n",
        "plt.xlabel('y_true');\n",
        "plt.ylabel('y_pred');"
      ]
    },
    {
      "cell_type": "markdown",
      "id": "a9eaf0f4",
      "metadata": {
        "id": "a9eaf0f4"
      },
      "source": [
        "## Lasso Model\n",
        "$$min_{w} \\frac{1}{2 n_{Samples}} \\|Xw - y\\|^2_2 + \\alpha \\|w\\|_1$$"
      ]
    },
    {
      "cell_type": "code",
      "execution_count": null,
      "id": "52ab32ea",
      "metadata": {
        "id": "52ab32ea"
      },
      "outputs": [],
      "source": [
        "from sklearn.linear_model import Lasso"
      ]
    },
    {
      "cell_type": "code",
      "execution_count": null,
      "id": "d034f3d0",
      "metadata": {
        "id": "d034f3d0",
        "outputId": "13215f1b-afc2-490e-ee7e-6d943dbe0cf8"
      },
      "outputs": [
        {
          "data": {
            "text/plain": [
              "Pipeline(steps=[('poly feature', PolynomialFeatures()),\n",
              "                ('regressor', Lasso(alpha=10))])"
            ]
          },
          "execution_count": 78,
          "metadata": {},
          "output_type": "execute_result"
        }
      ],
      "source": [
        "steps = [('poly feature', PolynomialFeatures(degree=2)),\n",
        "         ('regressor', Lasso(alpha=10))]\n",
        "\n",
        "LR = Pipeline(steps=steps)\n",
        "LR.fit(X_train, y_train)"
      ]
    },
    {
      "cell_type": "code",
      "execution_count": null,
      "id": "05737872",
      "metadata": {
        "id": "05737872",
        "outputId": "dceede25-6023-4bf5-999d-f21f9d391a24"
      },
      "outputs": [
        {
          "data": {
            "image/png": "[encoded data removed]",
            "text/plain": [
              "<Figure size 432x288 with 1 Axes>"
            ]
          },
          "metadata": {
            "needs_background": "light"
          },
          "output_type": "display_data"
        }
      ],
      "source": [
        "y_pred = LR.predict(X_test)\n",
        "\n",
        "x = np.linspace(0, max(np.max(y_test), np.max(y_pred)), 15000)\n",
        "plt.plot(x, x)\n",
        "plt.scatter(y_test, y_pred, alpha=0.5);\n",
        "plt.xlabel('y_true');\n",
        "plt.ylabel('y_pred');"
      ]
    },
    {
      "cell_type": "markdown",
      "id": "eadcbe61",
      "metadata": {
        "id": "eadcbe61"
      },
      "source": [
        "## Elastic-Net Model\n",
        "$$min_{w} \\frac{1}{2 n_{Samples}} \\|Xw - y\\|^2_2 + \\alpha \\rho\\|w\\|_1 + \\frac{\\alpha(1-\\rho)}{2}\\|w\\|_2^2$$"
      ]
    },
    {
      "cell_type": "code",
      "execution_count": null,
      "id": "8aa8a1bd",
      "metadata": {
        "id": "8aa8a1bd"
      },
      "outputs": [],
      "source": [
        "from sklearn.linear_model import ElasticNet"
      ]
    },
    {
      "cell_type": "code",
      "execution_count": null,
      "id": "e0637ce3",
      "metadata": {
        "id": "e0637ce3",
        "outputId": "c8cbb90f-6f71-4e24-dd72-15a8be6f31cb"
      },
      "outputs": [
        {
          "data": {
            "text/plain": [
              "Pipeline(steps=[('poly feature', PolynomialFeatures()),\n",
              "                ('regressor', ElasticNet(alpha=1, l1_ratio=0.01))])"
            ]
          },
          "execution_count": 93,
          "metadata": {},
          "output_type": "execute_result"
        }
      ],
      "source": [
        "steps = [('poly feature', PolynomialFeatures(degree=2)),\n",
        "         ('regressor', ElasticNet(alpha=1, l1_ratio=0.01))]\n",
        "\n",
        "LR = Pipeline(steps=steps)\n",
        "LR.fit(X_train, y_train)"
      ]
    },
    {
      "cell_type": "code",
      "execution_count": null,
      "id": "49043f08",
      "metadata": {
        "id": "49043f08",
        "outputId": "d64c5843-b99c-43cd-bd8a-04611e9c0133"
      },
      "outputs": [
        {
          "data": {
            "image/png": "[encoded data removed]",
            "text/plain": [
              "<Figure size 432x288 with 1 Axes>"
            ]
          },
          "metadata": {
            "needs_background": "light"
          },
          "output_type": "display_data"
        }
      ],
      "source": [
        "y_pred = LR.predict(X_test)\n",
        "\n",
        "x = np.linspace(0, max(np.max(y_test), np.max(y_pred)), 15000)\n",
        "plt.plot(x, x)\n",
        "plt.scatter(y_test, y_pred, alpha=0.5);\n",
        "plt.xlabel('y_true');\n",
        "plt.ylabel('y_pred');"
      ]
    },
    {
      "cell_type": "markdown",
      "id": "4dfa1698",
      "metadata": {
        "id": "4dfa1698"
      },
      "source": [
        "# Metrics:\n",
        "\n",
        "$$Max Error(y, \\hat{y}) =  max(|y_i - \\hat{y}_i|)$$\n",
        "\n",
        "$$MAE(y, \\hat{y}) = \\frac{1}{n_{Samples}} \\sum_{i=1}^{n_{Samples}}|y_i - \\hat{y}_i|$$\n",
        "\n",
        "$$MSE(y, \\hat{y}) = \\frac{1}{n_{Samples}} \\sum_{i=1}^{n_{Samples}}(y_i - \\hat{y}_i)^2$$\n",
        "\n",
        "$$R^2(y, \\hat{y}) = 1 - \\frac{\\sum_{i=1}^{n}(y_i - \\hat{y}_i)^2}{\\sum_{i=1}^{n}(y_i - \\bar{y})^2}$$"
      ]
    },
    {
      "cell_type": "code",
      "execution_count": null,
      "id": "33625a0d",
      "metadata": {
        "id": "33625a0d"
      },
      "outputs": [],
      "source": [
        "from sklearn.metrics import mean_absolute_error, max_error, mean_squared_error, r2_score, ma"
      ]
    },
    {
      "cell_type": "code",
      "execution_count": null,
      "id": "7d5726c9",
      "metadata": {
        "id": "7d5726c9",
        "outputId": "7734dff7-a95a-4966-a7e3-5e61f8e55e5b"
      },
      "outputs": [
        {
          "name": "stdout",
          "output_type": "stream",
          "text": [
            "max_abs err: 6344.634196574756, mean_sq err: 73051.39949365646, mean_abs err: 84.42819651533281, R^2 err: 0.7834082356841376\n",
            "max_abs err: 6216.8420631448935, mean_sq err: 74796.09919647317, mean_abs err: 80.64040449305678, R^2 err: 0.7782353356513703\n",
            "max_abs err: 9214.112620897542, mean_sq err: 310767.14375700965, mean_abs err: 126.62903260289335, R^2 err: 0.0785993913288835\n",
            "max_abs err: 9377.426720402065, mean_sq err: 319120.5610967542, mean_abs err: 122.43990692896467, R^2 err: 0.05383215329891111\n"
          ]
        }
      ],
      "source": [
        "steps1 = [('poly feature', PolynomialFeatures(degree=2)),\n",
        "          ('regressor', LinearRegression())]\n",
        "\n",
        "steps2 = [('poly feature', PolynomialFeatures(degree=3)),\n",
        "          ('regressor', Ridge(alpha=0.1))]\n",
        "\n",
        "steps3 = [('poly feature', PolynomialFeatures(degree=2)),\n",
        "          ('regressor', Lasso(alpha=10))]\n",
        "\n",
        "steps4 = [('poly feature', PolynomialFeatures(degree=2)),\n",
        "          ('regressor', ElasticNet(alpha=1, l1_ratio=0.01))]\n",
        "\n",
        "\n",
        "steps_list = [steps1, steps2, steps3, steps4]\n",
        "\n",
        "for steps in steps_list:\n",
        "    LR = Pipeline(steps=steps)\n",
        "    LR.fit(X_train, y_train)\n",
        "    y_pred = LR.predict(X_test)\n",
        "    \n",
        "    print('max_abs err: {}, mean_sq err: {}, mean_abs err: {}, R^2 err: {}'.format(max_error(y_test, y_pred),\n",
        "                                                                                   mean_squared_error(y_test, y_pred),\n",
        "                                                                                   mean_absolute_error(y_test, y_pred),\n",
        "                                                                                   r2_score(y_test, y_pred)))"
      ]
    },
    {
      "cell_type": "code",
      "execution_count": null,
      "id": "e73ce2b2",
      "metadata": {
        "id": "e73ce2b2"
      },
      "outputs": [],
      "source": []
    },
    {
      "cell_type": "code",
      "execution_count": null,
      "id": "c69a4204",
      "metadata": {
        "id": "c69a4204"
      },
      "outputs": [],
      "source": []
    },
    {
      "cell_type": "code",
      "execution_count": null,
      "id": "86f078f7",
      "metadata": {
        "id": "86f078f7"
      },
      "outputs": [],
      "source": []
    },
    {
      "cell_type": "code",
      "execution_count": null,
      "id": "cd5e7120",
      "metadata": {
        "id": "cd5e7120"
      },
      "outputs": [],
      "source": []
    },
    {
      "cell_type": "markdown",
      "id": "66999064",
      "metadata": {
        "id": "66999064"
      },
      "source": [
        "\n",
        "\n",
        "https://www.kaggle.com/datasets/denzilg/hdb-flat-prices-19902021-march"
      ]
    }
  ],
  "metadata": {
    "kernelspec": {
      "display_name": "Python 3 (ipykernel)",
      "language": "python",
      "name": "python3"
    },
    "language_info": {
      "codemirror_mode": {
        "name": "ipython",
        "version": 3
      },
      "file_extension": ".py",
      "mimetype": "text/x-python",
      "name": "python",
      "nbconvert_exporter": "python",
      "pygments_lexer": "ipython3",
      "version": "3.9.5"
    },
    "colab": {
      "provenance": []
    }
  },
  "nbformat": 4,
  "nbformat_minor": 5
}